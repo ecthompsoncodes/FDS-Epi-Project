{
 "cells": [
  {
   "cell_type": "code",
   "execution_count": 2,
   "id": "4d1381e1-c7cf-4e1f-823a-5c93b8ec3ea8",
   "metadata": {},
   "outputs": [],
   "source": [
    "import pandas as pd"
   ]
  },
  {
   "cell_type": "code",
   "execution_count": 4,
   "id": "b4114a34-c95c-4f62-b45f-b322cdbdcd14",
   "metadata": {},
   "outputs": [],
   "source": [
    "data = pd.read_csv('us-counties-2021.csv')"
   ]
  },
  {
   "cell_type": "code",
   "execution_count": 22,
   "id": "3e2c49ca-7556-4734-acdd-fe96e81415cf",
   "metadata": {},
   "outputs": [],
   "source": [
    "nc = data.loc[data['state'] == \"North Carolina\"].copy()\n",
    "\n",
    "# Convert the 'date' column to datetime\n",
    "nc['date'] = pd.to_datetime(nc['date'])\n",
    "\n",
    "# Define the date range\n",
    "start_date = '2021-07-01'\n",
    "end_date = '2021-12-01'\n",
    "\n",
    "# Filter the DataFrame for the date range\n",
    "filtered_df = nc[(nc['date'] >= start_date) & (nc['date'] < end_date)]"
   ]
  },
  {
   "cell_type": "code",
   "execution_count": 24,
   "id": "6dd21901-ab18-45eb-b7e7-4b9668cf0d81",
   "metadata": {},
   "outputs": [],
   "source": [
    "filtered_df.to_csv(\"nc_data.csv\")"
   ]
  }
 ],
 "metadata": {
  "kernelspec": {
   "display_name": "Python 3 (ipykernel)",
   "language": "python",
   "name": "python3"
  },
  "language_info": {
   "codemirror_mode": {
    "name": "ipython",
    "version": 3
   },
   "file_extension": ".py",
   "mimetype": "text/x-python",
   "name": "python",
   "nbconvert_exporter": "python",
   "pygments_lexer": "ipython3",
   "version": "3.9.6"
  }
 },
 "nbformat": 4,
 "nbformat_minor": 5
}
